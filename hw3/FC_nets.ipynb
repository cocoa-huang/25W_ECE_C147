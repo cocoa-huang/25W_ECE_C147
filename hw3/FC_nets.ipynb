{
 "cells": [
  {
   "cell_type": "markdown",
   "metadata": {},
   "source": [
    "# Fully connected networks\n",
    "\n",
    "In the previous notebook, you implemented a simple two-layer neural network class.  However, this class is not modular.  If you wanted to change the number of layers, you would need to write a new loss and gradient function.  If you wanted to optimize the network with different optimizers, you'd need to write new training functions.  If you wanted to incorporate regularizations, you'd have to modify the loss and gradient function.  \n",
    "\n",
    "Instead of having to modify functions each time, for the rest of the class, we'll work in a more modular framework where we define forward and backward layers that calculate losses and gradients respectively.  Since the forward and backward layers share intermediate values that are useful for calculating both the loss and the gradient, we'll also have these function return \"caches\" which store useful intermediate values.\n",
    "\n",
    "The goal is that through this modular design, we can build different sized neural networks for various applications.\n",
    "\n",
    "In this HW #3, we'll define the basic architecture, and in HW #4, we'll build on this framework to implement different optimizers and regularizations (like BatchNorm and Dropout).\n",
    "\n"
   ]
  },
  {
   "cell_type": "markdown",
   "metadata": {},
   "source": [
    "## Modular layers\n",
    "\n",
    "This notebook will build modular layers in the following manner.  First, there will be a forward pass for a given layer with inputs (`x`) and return the output of that layer (`out`) as well as cached variables (`cache`) that will be used to calculate the gradient in the backward pass.\n",
    "\n",
    "```python\n",
    "def layer_forward(x, w):\n",
    "  \"\"\" Receive inputs x and weights w \"\"\"\n",
    "  # Do some computations ...\n",
    "  z = # ... some intermediate value\n",
    "  # Do some more computations ...\n",
    "  out = # the output\n",
    "   \n",
    "  cache = (x, w, z, out) # Values we need to compute gradients\n",
    "   \n",
    "  return out, cache\n",
    "```\n",
    "\n",
    "The backward pass will receive upstream derivatives and the `cache` object, and will return gradients with respect to the inputs and weights, like this:\n",
    "\n",
    "```python\n",
    "def layer_backward(dout, cache):\n",
    "  \"\"\"\n",
    "  Receive derivative of loss with respect to outputs and cache,\n",
    "  and compute derivative with respect to inputs.\n",
    "  \"\"\"\n",
    "  # Unpack cache values\n",
    "  x, w, z, out = cache\n",
    "  \n",
    "  # Use values in cache to compute derivatives\n",
    "  dx = # Derivative of loss with respect to x\n",
    "  dw = # Derivative of loss with respect to w\n",
    "  \n",
    "  return dx, dw\n",
    "```"
   ]
  },
  {
   "cell_type": "code",
   "execution_count": 1,
   "metadata": {},
   "outputs": [],
   "source": [
    "## Import and setups\n",
    "\n",
    "import time\n",
    "import numpy as np\n",
    "import matplotlib.pyplot as plt\n",
    "from nndl.fc_net import *\n",
    "from utils.data_utils import get_CIFAR10_data\n",
    "from utils.gradient_check import eval_numerical_gradient, eval_numerical_gradient_array\n",
    "from utils.solver import Solver\n",
    "\n",
    "%matplotlib inline\n",
    "plt.rcParams['figure.figsize'] = (10.0, 8.0) # set default size of plots\n",
    "plt.rcParams['image.interpolation'] = 'nearest'\n",
    "plt.rcParams['image.cmap'] = 'gray'\n",
    "\n",
    "# for auto-reloading external modules\n",
    "# see http://stackoverflow.com/questions/1907993/autoreload-of-modules-in-ipython\n",
    "%load_ext autoreload\n",
    "%autoreload 2\n",
    "\n",
    "def rel_error(x, y):\n",
    "  \"\"\" returns relative error \"\"\"\n",
    "  return np.max(np.abs(x - y) / (np.maximum(1e-8, np.abs(x) + np.abs(y))))"
   ]
  },
  {
   "cell_type": "code",
   "execution_count": 3,
   "metadata": {},
   "outputs": [
    {
     "name": "stdout",
     "output_type": "stream",
     "text": [
      "X_train: (49000, 3, 32, 32) \n",
      "y_train: (49000,) \n",
      "X_val: (1000, 3, 32, 32) \n",
      "y_val: (1000,) \n",
      "X_test: (1000, 3, 32, 32) \n",
      "y_test: (1000,) \n"
     ]
    }
   ],
   "source": [
    "# Load the (preprocessed) CIFAR10 data.\n",
    "data = get_CIFAR10_data()\n",
    "for k in data.keys():\n",
    "  print('{}: {} '.format(k, data[k].shape))"
   ]
  },
  {
   "cell_type": "markdown",
   "metadata": {},
   "source": [
    "## Linear layers\n",
    "\n",
    "In this section, we'll implement the forward and backward pass for the linear layers.\n",
    "\n",
    "The linear layer forward pass is the function `affine_forward` in `nndl/layers.py` and the backward pass is `affine_backward`.\n",
    "\n",
    "After you have implemented these, test your implementation by running the cell below."
   ]
  },
  {
   "cell_type": "markdown",
   "metadata": {},
   "source": [
    "### Affine layer forward pass\n",
    "\n",
    "Implement `affine_forward` and then test your code by running the following cell."
   ]
  },
  {
   "cell_type": "code",
   "execution_count": 4,
   "metadata": {},
   "outputs": [
    {
     "name": "stdout",
     "output_type": "stream",
     "text": [
      "Testing affine_forward function:\n",
      "difference: 9.769849468192957e-10\n"
     ]
    }
   ],
   "source": [
    "# Test the affine_forward function\n",
    "\n",
    "num_inputs = 2\n",
    "input_shape = (4, 5, 6)\n",
    "output_dim = 3\n",
    "\n",
    "input_size = num_inputs * np.prod(input_shape)\n",
    "weight_size = output_dim * np.prod(input_shape)\n",
    "\n",
    "x = np.linspace(-0.1, 0.5, num=input_size).reshape(num_inputs, *input_shape)\n",
    "w = np.linspace(-0.2, 0.3, num=weight_size).reshape(np.prod(input_shape), output_dim)\n",
    "b = np.linspace(-0.3, 0.1, num=output_dim)\n",
    "\n",
    "out, _ = affine_forward(x, w, b)\n",
    "correct_out = np.array([[ 1.49834967,  1.70660132,  1.91485297],\n",
    "                        [ 3.25553199,  3.5141327,   3.77273342]])\n",
    "\n",
    "# Compare your output with ours. The error should be around 1e-9.\n",
    "print('Testing affine_forward function:')\n",
    "print('difference: {}'.format(rel_error(out, correct_out)))"
   ]
  },
  {
   "cell_type": "markdown",
   "metadata": {},
   "source": [
    "### Affine layer backward pass\n",
    "\n",
    "Implement `affine_backward` and then test your code by running the following cell."
   ]
  },
  {
   "cell_type": "code",
   "execution_count": 5,
   "metadata": {},
   "outputs": [
    {
     "name": "stdout",
     "output_type": "stream",
     "text": [
      "Testing affine_backward function:\n",
      "dx error: 7.236560787410244e-11\n",
      "dw error: 2.8611109715087915e-10\n",
      "db error: 1.0915932369893738e-11\n"
     ]
    }
   ],
   "source": [
    "# Test the affine_backward function\n",
    "\n",
    "x = np.random.randn(10, 2, 3)\n",
    "w = np.random.randn(6, 5)\n",
    "b = np.random.randn(5)\n",
    "dout = np.random.randn(10, 5)\n",
    "\n",
    "dx_num = eval_numerical_gradient_array(lambda x: affine_forward(x, w, b)[0], x, dout)\n",
    "dw_num = eval_numerical_gradient_array(lambda w: affine_forward(x, w, b)[0], w, dout)\n",
    "db_num = eval_numerical_gradient_array(lambda b: affine_forward(x, w, b)[0], b, dout)\n",
    "\n",
    "_, cache = affine_forward(x, w, b)\n",
    "dx, dw, db = affine_backward(dout, cache)\n",
    "\n",
    "# The error should be around 1e-10\n",
    "print('Testing affine_backward function:')\n",
    "print('dx error: {}'.format(rel_error(dx_num, dx)))\n",
    "print('dw error: {}'.format(rel_error(dw_num, dw)))\n",
    "print('db error: {}'.format(rel_error(db_num, db)))"
   ]
  },
  {
   "cell_type": "markdown",
   "metadata": {},
   "source": [
    "## Activation layers\n",
    "\n",
    "In this section you'll implement the ReLU activation."
   ]
  },
  {
   "cell_type": "markdown",
   "metadata": {},
   "source": [
    "### ReLU forward pass\n",
    "\n",
    "Implement the `relu_forward` function in `nndl/layers.py` and then test your code by running the following cell."
   ]
  },
  {
   "cell_type": "code",
   "execution_count": 6,
   "metadata": {},
   "outputs": [
    {
     "name": "stdout",
     "output_type": "stream",
     "text": [
      "Testing relu_forward function:\n",
      "difference: 4.999999798022158e-08\n"
     ]
    }
   ],
   "source": [
    "# Test the relu_forward function\n",
    "\n",
    "x = np.linspace(-0.5, 0.5, num=12).reshape(3, 4)\n",
    "\n",
    "out, _ = relu_forward(x)\n",
    "correct_out = np.array([[ 0.,          0.,          0.,          0.,        ],\n",
    "                        [ 0.,          0.,          0.04545455,  0.13636364,],\n",
    "                        [ 0.22727273,  0.31818182,  0.40909091,  0.5,       ]])\n",
    "\n",
    "# Compare your output with ours. The error should be around 1e-8\n",
    "print('Testing relu_forward function:')\n",
    "print('difference: {}'.format(rel_error(out, correct_out)))"
   ]
  },
  {
   "cell_type": "markdown",
   "metadata": {},
   "source": [
    "### ReLU backward pass\n",
    "Implement the `relu_backward` function in `nndl/layers.py` and then test your code by running the following cell."
   ]
  },
  {
   "cell_type": "code",
   "execution_count": 7,
   "metadata": {},
   "outputs": [
    {
     "name": "stdout",
     "output_type": "stream",
     "text": [
      "Testing relu_backward function:\n",
      "dx error: 3.2756133838882495e-12\n"
     ]
    }
   ],
   "source": [
    "x = np.random.randn(10, 10)\n",
    "dout = np.random.randn(*x.shape)\n",
    "\n",
    "dx_num = eval_numerical_gradient_array(lambda x: relu_forward(x)[0], x, dout)\n",
    "\n",
    "_, cache = relu_forward(x)\n",
    "dx = relu_backward(dout, cache)\n",
    "\n",
    "# The error should be around 1e-12\n",
    "print('Testing relu_backward function:')\n",
    "print('dx error: {}'.format(rel_error(dx_num, dx)))"
   ]
  },
  {
   "cell_type": "markdown",
   "metadata": {},
   "source": [
    "## Combining the affine and ReLU layers\n",
    "\n",
    "Often times, an affine layer will be followed by a ReLU layer. So let's make one that puts them together.  Layers that are combined are stored in `nndl/layer_utils.py`.  "
   ]
  },
  {
   "cell_type": "markdown",
   "metadata": {},
   "source": [
    "### Affine-ReLU layers\n",
    "We've implemented `affine_relu_forward()` and `affine_relu_backward` in ``nndl/layer_utils.py``.  Take a look at them to make sure you understand what's going on.  Then run the following cell to ensure its implemented correctly."
   ]
  },
  {
   "cell_type": "code",
   "execution_count": 8,
   "metadata": {},
   "outputs": [
    {
     "name": "stdout",
     "output_type": "stream",
     "text": [
      "Testing affine_relu_forward and affine_relu_backward:\n",
      "dx error: 3.0789441911292525e-09\n",
      "dw error: 2.9210454581486796e-10\n",
      "db error: 1.8928954292320497e-11\n"
     ]
    }
   ],
   "source": [
    "from nndl.layer_utils import affine_relu_forward, affine_relu_backward\n",
    "\n",
    "x = np.random.randn(2, 3, 4)\n",
    "w = np.random.randn(12, 10)\n",
    "b = np.random.randn(10)\n",
    "dout = np.random.randn(2, 10)\n",
    "\n",
    "out, cache = affine_relu_forward(x, w, b)\n",
    "dx, dw, db = affine_relu_backward(dout, cache)\n",
    "\n",
    "dx_num = eval_numerical_gradient_array(lambda x: affine_relu_forward(x, w, b)[0], x, dout)\n",
    "dw_num = eval_numerical_gradient_array(lambda w: affine_relu_forward(x, w, b)[0], w, dout)\n",
    "db_num = eval_numerical_gradient_array(lambda b: affine_relu_forward(x, w, b)[0], b, dout)\n",
    "\n",
    "print('Testing affine_relu_forward and affine_relu_backward:')\n",
    "print('dx error: {}'.format(rel_error(dx_num, dx)))\n",
    "print('dw error: {}'.format(rel_error(dw_num, dw)))\n",
    "print('db error: {}'.format(rel_error(db_num, db)))"
   ]
  },
  {
   "cell_type": "markdown",
   "metadata": {},
   "source": [
    "## Softmax loss\n",
    "\n",
    "You've already implemented it, so we have written it in `layers.py`.  The following code will ensure they are working correctly."
   ]
  },
  {
   "cell_type": "code",
   "execution_count": 9,
   "metadata": {},
   "outputs": [
    {
     "name": "stdout",
     "output_type": "stream",
     "text": [
      "\n",
      "Testing softmax_loss:\n",
      "loss: 2.3024751368780367\n",
      "dx error: 8.547457889467005e-09\n"
     ]
    }
   ],
   "source": [
    "num_classes, num_inputs = 10, 50\n",
    "x = 0.001 * np.random.randn(num_inputs, num_classes)\n",
    "y = np.random.randint(num_classes, size=num_inputs)\n",
    "\n",
    "\n",
    "\n",
    "dx_num = eval_numerical_gradient(lambda x: softmax_loss(x, y)[0], x, verbose=False)\n",
    "loss, dx = softmax_loss(x, y)\n",
    "\n",
    "# Test softmax_loss function. Loss should be 2.3 and dx error should be 1e-8\n",
    "print('\\nTesting softmax_loss:')\n",
    "print('loss: {}'.format(loss))\n",
    "print('dx error: {}'.format(rel_error(dx_num, dx)))"
   ]
  },
  {
   "cell_type": "markdown",
   "metadata": {},
   "source": [
    "## Implementation of a two-layer NN\n",
    "\n",
    "In `nndl/fc_net.py`, implement the class `TwoLayerNet` which uses the layers you made here.  When you have finished, the following cell will test your implementation."
   ]
  },
  {
   "cell_type": "code",
   "execution_count": 11,
   "metadata": {},
   "outputs": [
    {
     "name": "stdout",
     "output_type": "stream",
     "text": [
      "Testing initialization ... \n",
      "Testing test-time forward pass ... \n",
      "Testing training loss (no regularization)\n",
      "Running numeric gradient check with reg = 0.0\n",
      "W1 relative error: 1.2236149309214616e-08\n",
      "W2 relative error: 3.324774644105209e-10\n",
      "b1 relative error: 8.008664452997655e-09\n",
      "b2 relative error: 2.530784768782457e-10\n",
      "Running numeric gradient check with reg = 0.7\n",
      "W1 relative error: 2.527915175868136e-07\n",
      "W2 relative error: 1.3678354331876478e-07\n",
      "b1 relative error: 1.564680025692899e-08\n",
      "b2 relative error: 9.089621155678095e-10\n"
     ]
    }
   ],
   "source": [
    "N, D, H, C = 3, 5, 50, 7\n",
    "X = np.random.randn(N, D)\n",
    "y = np.random.randint(C, size=N)\n",
    "\n",
    "std = 1e-2\n",
    "model = TwoLayerNet(input_dim=D, hidden_dims=H, num_classes=C, weight_scale=std)\n",
    "\n",
    "print('Testing initialization ... ')\n",
    "W1_std = abs(model.params['W1'].std() - std)\n",
    "b1 = model.params['b1']\n",
    "W2_std = abs(model.params['W2'].std() - std)\n",
    "b2 = model.params['b2']\n",
    "assert W1_std < std / 10, 'First layer weights do not seem right'\n",
    "assert np.all(b1 == 0), 'First layer biases do not seem right'\n",
    "assert W2_std < std / 10, 'Second layer weights do not seem right'\n",
    "assert np.all(b2 == 0), 'Second layer biases do not seem right'\n",
    "\n",
    "print('Testing test-time forward pass ... ')\n",
    "model.params['W1'] = np.linspace(-0.7, 0.3, num=D*H).reshape(D, H)\n",
    "model.params['b1'] = np.linspace(-0.1, 0.9, num=H)\n",
    "model.params['W2'] = np.linspace(-0.3, 0.4, num=H*C).reshape(H, C)\n",
    "model.params['b2'] = np.linspace(-0.9, 0.1, num=C)\n",
    "X = np.linspace(-5.5, 4.5, num=N*D).reshape(D, N).T\n",
    "scores = model.loss(X)\n",
    "correct_scores = np.asarray(\n",
    "  [[11.53165108,  12.2917344,   13.05181771,  13.81190102,  14.57198434, 15.33206765,  16.09215096],\n",
    "   [12.05769098,  12.74614105,  13.43459113,  14.1230412,   14.81149128, 15.49994135,  16.18839143],\n",
    "   [12.58373087,  13.20054771,  13.81736455,  14.43418138,  15.05099822, 15.66781506,  16.2846319 ]])\n",
    "scores_diff = np.abs(scores - correct_scores).sum()\n",
    "assert scores_diff < 1e-6, 'Problem with test-time forward pass'\n",
    "\n",
    "print('Testing training loss (no regularization)')\n",
    "y = np.asarray([0, 5, 1])\n",
    "loss, grads = model.loss(X, y)\n",
    "correct_loss = 3.4702243556\n",
    "assert abs(loss - correct_loss) < 1e-10, 'Problem with training-time loss'\n",
    "\n",
    "model.reg = 1.0\n",
    "loss, grads = model.loss(X, y)\n",
    "correct_loss = 26.5948426952\n",
    "assert abs(loss - correct_loss) < 1e-10, 'Problem with regularization loss'\n",
    "\n",
    "for reg in [0.0, 0.7]:\n",
    "  print('Running numeric gradient check with reg = {}'.format(reg))\n",
    "  model.reg = reg\n",
    "  loss, grads = model.loss(X, y)\n",
    "\n",
    "  for name in sorted(grads):\n",
    "    f = lambda _: model.loss(X, y)[0]\n",
    "    grad_num = eval_numerical_gradient(f, model.params[name], verbose=False)\n",
    "    print('{} relative error: {}'.format(name, rel_error(grad_num, grads[name])))"
   ]
  },
  {
   "cell_type": "markdown",
   "metadata": {},
   "source": [
    "## Solver \n",
    "\n",
    "We will now use the utils Solver class to train these networks.  Familiarize yourself with the API in `utils/solver.py`.  After you have done so, declare an instance of a TwoLayerNet with 200 units and then train it with the Solver.  Choose parameters so that your validation accuracy is at least 50%."
   ]
  },
  {
   "cell_type": "code",
   "execution_count": 30,
   "metadata": {
    "scrolled": false
   },
   "outputs": [
    {
     "name": "stdout",
     "output_type": "stream",
     "text": [
      "(Iteration 1 / 980) loss: 2.303371\n",
      "(Epoch 0 / 10) train acc: 0.166000; val_acc: 0.161000\n",
      "(Epoch 1 / 10) train acc: 0.424000; val_acc: 0.404000\n",
      "(Iteration 101 / 980) loss: 1.565557\n",
      "(Epoch 2 / 10) train acc: 0.485000; val_acc: 0.448000\n",
      "(Iteration 201 / 980) loss: 1.440632\n",
      "(Epoch 3 / 10) train acc: 0.461000; val_acc: 0.463000\n",
      "(Iteration 301 / 980) loss: 1.431495\n",
      "(Epoch 4 / 10) train acc: 0.478000; val_acc: 0.478000\n",
      "(Iteration 401 / 980) loss: 1.393616\n",
      "(Epoch 5 / 10) train acc: 0.453000; val_acc: 0.484000\n",
      "(Iteration 501 / 980) loss: 1.375448\n",
      "(Epoch 6 / 10) train acc: 0.518000; val_acc: 0.485000\n",
      "(Iteration 601 / 980) loss: 1.383925\n",
      "(Epoch 7 / 10) train acc: 0.554000; val_acc: 0.495000\n",
      "(Iteration 701 / 980) loss: 1.317262\n",
      "(Epoch 8 / 10) train acc: 0.571000; val_acc: 0.488000\n",
      "(Iteration 801 / 980) loss: 1.298678\n",
      "(Epoch 9 / 10) train acc: 0.564000; val_acc: 0.495000\n",
      "(Iteration 901 / 980) loss: 1.199129\n",
      "(Epoch 10 / 10) train acc: 0.623000; val_acc: 0.521000\n"
     ]
    }
   ],
   "source": [
    "model = TwoLayerNet()\n",
    "solver = None\n",
    "\n",
    "# ================================================================ #\n",
    "# YOUR CODE HERE:\n",
    "#   Declare an instance of a TwoLayerNet and then train \n",
    "#   it with the Solver. Choose hyperparameters so that your validation \n",
    "#   accuracy is at least 50%.  We won't have you optimize this further\n",
    "#   since you did it in the previous notebook.\n",
    "#\n",
    "# ================================================================ #\n",
    "\n",
    "solver = Solver(\n",
    "    model,\n",
    "    data,\n",
    "    optim_config={\n",
    "        'learning_rate': 2.5e-3,\n",
    "    },\n",
    "    lr_decay=0.9,\n",
    "    num_epochs=10,\n",
    "    batch_size=500,\n",
    "    print_every=100\n",
    ")\n",
    "\n",
    "solver.train()\n",
    "# ================================================================ #\n",
    "# END YOUR CODE HERE\n",
    "# ================================================================ #"
   ]
  },
  {
   "cell_type": "code",
   "execution_count": 31,
   "metadata": {},
   "outputs": [
    {
     "data": {
      "image/png": "[encoded data removed]",
      "text/plain": [
       "<Figure size 1500x1200 with 2 Axes>"
      ]
     },
     "metadata": {},
     "output_type": "display_data"
    }
   ],
   "source": [
    "# Run this cell to visualize training loss and train / val accuracy\n",
    "\n",
    "plt.subplot(2, 1, 1)\n",
    "plt.title('Training loss')\n",
    "plt.plot(solver.loss_history, 'o')\n",
    "plt.xlabel('Iteration')\n",
    "\n",
    "plt.subplot(2, 1, 2)\n",
    "plt.title('Accuracy')\n",
    "plt.plot(solver.train_acc_history, '-o', label='train')\n",
    "plt.plot(solver.val_acc_history, '-o', label='val')\n",
    "plt.plot([0.5] * len(solver.val_acc_history), 'k--')\n",
    "plt.xlabel('Epoch')\n",
    "plt.legend(loc='lower right')\n",
    "plt.gcf().set_size_inches(15, 12)\n",
    "plt.show()"
   ]
  },
  {
   "cell_type": "markdown",
   "metadata": {},
   "source": [
    "## Multilayer Neural Network\n",
    "\n",
    "Now, we implement a multi-layer neural network.\n",
    "\n",
    "Read through the `FullyConnectedNet` class in the file `nndl/fc_net.py`.\n",
    "\n",
    "Implement the initialization, the forward pass, and the backward pass.  There will be lines for batchnorm and dropout layers and caches; ignore these all for now.  That'll be in HW #4."
   ]
  },
  {
   "cell_type": "code",
   "execution_count": 33,
   "metadata": {},
   "outputs": [
    {
     "name": "stdout",
     "output_type": "stream",
     "text": [
      "Running check with reg = 0\n",
      "Initial loss: 2.304938810783484\n",
      "W1 relative error: 8.534979930902771e-08\n",
      "W2 relative error: 5.365182208226316e-06\n",
      "W3 relative error: 4.122175750956746e-06\n",
      "b1 relative error: 5.527167089512388e-09\n",
      "b2 relative error: 4.774925046579938e-09\n",
      "b3 relative error: 1.318957807245915e-10\n",
      "Running check with reg = 3.14\n",
      "Initial loss: 6.701781418975399\n",
      "W1 relative error: 2.1071232425064034e-08\n",
      "W2 relative error: 1.1145507967524176e-07\n",
      "W3 relative error: 3.883570346747725e-08\n",
      "b1 relative error: 1.29096781672186e-07\n",
      "b2 relative error: 1.664058591209654e-08\n",
      "b3 relative error: 1.2624436806520066e-10\n"
     ]
    }
   ],
   "source": [
    "N, D, H1, H2, C = 2, 15, 20, 30, 10\n",
    "X = np.random.randn(N, D)\n",
    "y = np.random.randint(C, size=(N,))\n",
    "\n",
    "for reg in [0, 3.14]:\n",
    "  print('Running check with reg = {}'.format(reg))\n",
    "  model = FullyConnectedNet([H1, H2], input_dim=D, num_classes=C,\n",
    "                            reg=reg, weight_scale=5e-2, dtype=np.float64)\n",
    "\n",
    "  loss, grads = model.loss(X, y)\n",
    "  print('Initial loss: {}'.format(loss))\n",
    "\n",
    "  for name in sorted(grads):\n",
    "    f = lambda _: model.loss(X, y)[0]\n",
    "    grad_num = eval_numerical_gradient(f, model.params[name], verbose=False, h=1e-5)\n",
    "    print('{} relative error: {}'.format(name, rel_error(grad_num, grads[name])))"
   ]
  },
  {
   "cell_type": "code",
   "execution_count": 45,
   "metadata": {},
   "outputs": [
    {
     "name": "stdout",
     "output_type": "stream",
     "text": [
      "(Iteration 1 / 1000) loss: 2.262895\n",
      "(Epoch 0 / 100) train acc: 0.120000; val_acc: 0.110000\n",
      "(Epoch 1 / 100) train acc: 0.380000; val_acc: 0.144000\n",
      "(Iteration 11 / 1000) loss: 2.447719\n",
      "(Epoch 2 / 100) train acc: 0.560000; val_acc: 0.151000\n",
      "(Iteration 21 / 1000) loss: 1.462618\n",
      "(Epoch 3 / 100) train acc: 0.640000; val_acc: 0.158000\n",
      "(Iteration 31 / 1000) loss: 1.421101\n",
      "(Epoch 4 / 100) train acc: 0.780000; val_acc: 0.168000\n",
      "(Iteration 41 / 1000) loss: 1.185950\n",
      "(Epoch 5 / 100) train acc: 0.820000; val_acc: 0.164000\n",
      "(Iteration 51 / 1000) loss: 1.170057\n",
      "(Epoch 6 / 100) train acc: 0.860000; val_acc: 0.173000\n",
      "(Iteration 61 / 1000) loss: 1.174156\n",
      "(Epoch 7 / 100) train acc: 0.920000; val_acc: 0.181000\n",
      "(Iteration 71 / 1000) loss: 0.652267\n",
      "(Epoch 8 / 100) train acc: 0.960000; val_acc: 0.177000\n",
      "(Iteration 81 / 1000) loss: 1.120703\n",
      "(Epoch 9 / 100) train acc: 1.000000; val_acc: 0.179000\n",
      "(Iteration 91 / 1000) loss: 0.224096\n",
      "(Epoch 10 / 100) train acc: 1.000000; val_acc: 0.188000\n",
      "(Iteration 101 / 1000) loss: 0.535299\n",
      "(Epoch 11 / 100) train acc: 1.000000; val_acc: 0.201000\n",
      "(Iteration 111 / 1000) loss: 0.444705\n",
      "(Epoch 12 / 100) train acc: 1.000000; val_acc: 0.193000\n",
      "(Iteration 121 / 1000) loss: 0.526131\n",
      "(Epoch 13 / 100) train acc: 0.980000; val_acc: 0.198000\n",
      "(Iteration 131 / 1000) loss: 0.422738\n",
      "(Epoch 14 / 100) train acc: 1.000000; val_acc: 0.194000\n",
      "(Iteration 141 / 1000) loss: 0.504603\n",
      "(Epoch 15 / 100) train acc: 1.000000; val_acc: 0.189000\n",
      "(Iteration 151 / 1000) loss: 0.608905\n",
      "(Epoch 16 / 100) train acc: 1.000000; val_acc: 0.191000\n",
      "(Iteration 161 / 1000) loss: 0.340817\n",
      "(Epoch 17 / 100) train acc: 1.000000; val_acc: 0.187000\n",
      "(Iteration 171 / 1000) loss: 0.320056\n",
      "(Epoch 18 / 100) train acc: 1.000000; val_acc: 0.186000\n",
      "(Iteration 181 / 1000) loss: 0.221312\n",
      "(Epoch 19 / 100) train acc: 1.000000; val_acc: 0.197000\n",
      "(Iteration 191 / 1000) loss: 0.146191\n",
      "(Epoch 20 / 100) train acc: 1.000000; val_acc: 0.186000\n",
      "(Iteration 201 / 1000) loss: 0.272874\n",
      "(Epoch 21 / 100) train acc: 1.000000; val_acc: 0.191000\n",
      "(Iteration 211 / 1000) loss: 0.162184\n",
      "(Epoch 22 / 100) train acc: 1.000000; val_acc: 0.190000\n",
      "(Iteration 221 / 1000) loss: 0.126620\n",
      "(Epoch 23 / 100) train acc: 1.000000; val_acc: 0.194000\n",
      "(Iteration 231 / 1000) loss: 0.222194\n",
      "(Epoch 24 / 100) train acc: 1.000000; val_acc: 0.195000\n",
      "(Iteration 241 / 1000) loss: 0.219643\n",
      "(Epoch 25 / 100) train acc: 1.000000; val_acc: 0.190000\n",
      "(Iteration 251 / 1000) loss: 0.253877\n",
      "(Epoch 26 / 100) train acc: 1.000000; val_acc: 0.191000\n",
      "(Iteration 261 / 1000) loss: 0.145985\n",
      "(Epoch 27 / 100) train acc: 1.000000; val_acc: 0.190000\n",
      "(Iteration 271 / 1000) loss: 0.109387\n",
      "(Epoch 28 / 100) train acc: 1.000000; val_acc: 0.193000\n",
      "(Iteration 281 / 1000) loss: 0.105077\n",
      "(Epoch 29 / 100) train acc: 1.000000; val_acc: 0.192000\n",
      "(Iteration 291 / 1000) loss: 0.120549\n",
      "(Epoch 30 / 100) train acc: 1.000000; val_acc: 0.193000\n",
      "(Iteration 301 / 1000) loss: 0.080706\n",
      "(Epoch 31 / 100) train acc: 1.000000; val_acc: 0.190000\n",
      "(Iteration 311 / 1000) loss: 0.203766\n",
      "(Epoch 32 / 100) train acc: 1.000000; val_acc: 0.190000\n",
      "(Iteration 321 / 1000) loss: 0.129305\n",
      "(Epoch 33 / 100) train acc: 1.000000; val_acc: 0.191000\n",
      "(Iteration 331 / 1000) loss: 0.082911\n",
      "(Epoch 34 / 100) train acc: 1.000000; val_acc: 0.192000\n",
      "(Iteration 341 / 1000) loss: 0.160690\n",
      "(Epoch 35 / 100) train acc: 1.000000; val_acc: 0.192000\n",
      "(Iteration 351 / 1000) loss: 0.095187\n",
      "(Epoch 36 / 100) train acc: 1.000000; val_acc: 0.194000\n",
      "(Iteration 361 / 1000) loss: 0.072071\n",
      "(Epoch 37 / 100) train acc: 1.000000; val_acc: 0.195000\n",
      "(Iteration 371 / 1000) loss: 0.139695\n",
      "(Epoch 38 / 100) train acc: 1.000000; val_acc: 0.194000\n",
      "(Iteration 381 / 1000) loss: 0.078652\n",
      "(Epoch 39 / 100) train acc: 1.000000; val_acc: 0.193000\n",
      "(Iteration 391 / 1000) loss: 0.153948\n",
      "(Epoch 40 / 100) train acc: 1.000000; val_acc: 0.193000\n",
      "(Iteration 401 / 1000) loss: 0.103134\n",
      "(Epoch 41 / 100) train acc: 1.000000; val_acc: 0.196000\n",
      "(Iteration 411 / 1000) loss: 0.070813\n",
      "(Epoch 42 / 100) train acc: 1.000000; val_acc: 0.195000\n",
      "(Iteration 421 / 1000) loss: 0.119620\n",
      "(Epoch 43 / 100) train acc: 1.000000; val_acc: 0.195000\n",
      "(Iteration 431 / 1000) loss: 0.026557\n",
      "(Epoch 44 / 100) train acc: 1.000000; val_acc: 0.195000\n",
      "(Iteration 441 / 1000) loss: 0.180405\n",
      "(Epoch 45 / 100) train acc: 1.000000; val_acc: 0.197000\n",
      "(Iteration 451 / 1000) loss: 0.167158\n",
      "(Epoch 46 / 100) train acc: 1.000000; val_acc: 0.195000\n",
      "(Iteration 461 / 1000) loss: 0.075326\n",
      "(Epoch 47 / 100) train acc: 1.000000; val_acc: 0.195000\n",
      "(Iteration 471 / 1000) loss: 0.147810\n",
      "(Epoch 48 / 100) train acc: 1.000000; val_acc: 0.196000\n",
      "(Iteration 481 / 1000) loss: 0.113978\n",
      "(Epoch 49 / 100) train acc: 1.000000; val_acc: 0.194000\n",
      "(Iteration 491 / 1000) loss: 0.096403\n",
      "(Epoch 50 / 100) train acc: 1.000000; val_acc: 0.194000\n",
      "(Iteration 501 / 1000) loss: 0.210240\n",
      "(Epoch 51 / 100) train acc: 1.000000; val_acc: 0.195000\n",
      "(Iteration 511 / 1000) loss: 0.051645\n",
      "(Epoch 52 / 100) train acc: 1.000000; val_acc: 0.194000\n",
      "(Iteration 521 / 1000) loss: 0.081382\n",
      "(Epoch 53 / 100) train acc: 1.000000; val_acc: 0.194000\n",
      "(Iteration 531 / 1000) loss: 0.198197\n",
      "(Epoch 54 / 100) train acc: 1.000000; val_acc: 0.195000\n",
      "(Iteration 541 / 1000) loss: 0.113614\n",
      "(Epoch 55 / 100) train acc: 1.000000; val_acc: 0.194000\n",
      "(Iteration 551 / 1000) loss: 0.145568\n",
      "(Epoch 56 / 100) train acc: 1.000000; val_acc: 0.195000\n",
      "(Iteration 561 / 1000) loss: 0.171118\n",
      "(Epoch 57 / 100) train acc: 1.000000; val_acc: 0.195000\n",
      "(Iteration 571 / 1000) loss: 0.138348\n",
      "(Epoch 58 / 100) train acc: 1.000000; val_acc: 0.195000\n",
      "(Iteration 581 / 1000) loss: 0.142934\n",
      "(Epoch 59 / 100) train acc: 1.000000; val_acc: 0.194000\n",
      "(Iteration 591 / 1000) loss: 0.142630\n",
      "(Epoch 60 / 100) train acc: 1.000000; val_acc: 0.194000\n",
      "(Iteration 601 / 1000) loss: 0.036358\n",
      "(Epoch 61 / 100) train acc: 1.000000; val_acc: 0.193000\n",
      "(Iteration 611 / 1000) loss: 0.072044\n",
      "(Epoch 62 / 100) train acc: 1.000000; val_acc: 0.194000\n",
      "(Iteration 621 / 1000) loss: 0.036878\n",
      "(Epoch 63 / 100) train acc: 1.000000; val_acc: 0.193000\n",
      "(Iteration 631 / 1000) loss: 0.041415\n",
      "(Epoch 64 / 100) train acc: 1.000000; val_acc: 0.193000\n",
      "(Iteration 641 / 1000) loss: 0.087612\n",
      "(Epoch 65 / 100) train acc: 1.000000; val_acc: 0.193000\n",
      "(Iteration 651 / 1000) loss: 0.109936\n",
      "(Epoch 66 / 100) train acc: 1.000000; val_acc: 0.191000\n",
      "(Iteration 661 / 1000) loss: 0.111556\n",
      "(Epoch 67 / 100) train acc: 1.000000; val_acc: 0.191000\n",
      "(Iteration 671 / 1000) loss: 0.114503\n",
      "(Epoch 68 / 100) train acc: 1.000000; val_acc: 0.193000\n",
      "(Iteration 681 / 1000) loss: 0.071342\n",
      "(Epoch 69 / 100) train acc: 1.000000; val_acc: 0.194000\n",
      "(Iteration 691 / 1000) loss: 0.152530\n",
      "(Epoch 70 / 100) train acc: 1.000000; val_acc: 0.192000\n",
      "(Iteration 701 / 1000) loss: 0.086990\n",
      "(Epoch 71 / 100) train acc: 1.000000; val_acc: 0.193000\n",
      "(Iteration 711 / 1000) loss: 0.116254\n",
      "(Epoch 72 / 100) train acc: 1.000000; val_acc: 0.192000\n",
      "(Iteration 721 / 1000) loss: 0.094311\n",
      "(Epoch 73 / 100) train acc: 1.000000; val_acc: 0.191000\n",
      "(Iteration 731 / 1000) loss: 0.110887\n",
      "(Epoch 74 / 100) train acc: 1.000000; val_acc: 0.191000\n",
      "(Iteration 741 / 1000) loss: 0.084499\n",
      "(Epoch 75 / 100) train acc: 1.000000; val_acc: 0.191000\n",
      "(Iteration 751 / 1000) loss: 0.042952\n",
      "(Epoch 76 / 100) train acc: 1.000000; val_acc: 0.191000\n",
      "(Iteration 761 / 1000) loss: 0.075318\n",
      "(Epoch 77 / 100) train acc: 1.000000; val_acc: 0.192000\n",
      "(Iteration 771 / 1000) loss: 0.122923\n",
      "(Epoch 78 / 100) train acc: 1.000000; val_acc: 0.192000\n",
      "(Iteration 781 / 1000) loss: 0.150951\n",
      "(Epoch 79 / 100) train acc: 1.000000; val_acc: 0.192000\n",
      "(Iteration 791 / 1000) loss: 0.046224\n",
      "(Epoch 80 / 100) train acc: 1.000000; val_acc: 0.192000\n",
      "(Iteration 801 / 1000) loss: 0.104578\n",
      "(Epoch 81 / 100) train acc: 1.000000; val_acc: 0.192000\n",
      "(Iteration 811 / 1000) loss: 0.137762\n",
      "(Epoch 82 / 100) train acc: 1.000000; val_acc: 0.192000\n",
      "(Iteration 821 / 1000) loss: 0.066995\n",
      "(Epoch 83 / 100) train acc: 1.000000; val_acc: 0.192000\n",
      "(Iteration 831 / 1000) loss: 0.086921\n",
      "(Epoch 84 / 100) train acc: 1.000000; val_acc: 0.192000\n",
      "(Iteration 841 / 1000) loss: 0.059251\n",
      "(Epoch 85 / 100) train acc: 1.000000; val_acc: 0.192000\n",
      "(Iteration 851 / 1000) loss: 0.096281\n",
      "(Epoch 86 / 100) train acc: 1.000000; val_acc: 0.192000\n",
      "(Iteration 861 / 1000) loss: 0.105714\n",
      "(Epoch 87 / 100) train acc: 1.000000; val_acc: 0.192000\n",
      "(Iteration 871 / 1000) loss: 0.069412\n",
      "(Epoch 88 / 100) train acc: 1.000000; val_acc: 0.192000\n",
      "(Iteration 881 / 1000) loss: 0.149857\n",
      "(Epoch 89 / 100) train acc: 1.000000; val_acc: 0.192000\n",
      "(Iteration 891 / 1000) loss: 0.089421\n",
      "(Epoch 90 / 100) train acc: 1.000000; val_acc: 0.192000\n",
      "(Iteration 901 / 1000) loss: 0.124238\n",
      "(Epoch 91 / 100) train acc: 1.000000; val_acc: 0.192000\n",
      "(Iteration 911 / 1000) loss: 0.141659\n",
      "(Epoch 92 / 100) train acc: 1.000000; val_acc: 0.192000\n",
      "(Iteration 921 / 1000) loss: 0.102884\n",
      "(Epoch 93 / 100) train acc: 1.000000; val_acc: 0.192000\n",
      "(Iteration 931 / 1000) loss: 0.102858\n",
      "(Epoch 94 / 100) train acc: 1.000000; val_acc: 0.192000\n",
      "(Iteration 941 / 1000) loss: 0.096291\n",
      "(Epoch 95 / 100) train acc: 1.000000; val_acc: 0.193000\n",
      "(Iteration 951 / 1000) loss: 0.159371\n",
      "(Epoch 96 / 100) train acc: 1.000000; val_acc: 0.193000\n",
      "(Iteration 961 / 1000) loss: 0.105114\n",
      "(Epoch 97 / 100) train acc: 1.000000; val_acc: 0.193000\n",
      "(Iteration 971 / 1000) loss: 0.090698\n",
      "(Epoch 98 / 100) train acc: 1.000000; val_acc: 0.193000\n",
      "(Iteration 981 / 1000) loss: 0.138364\n",
      "(Epoch 99 / 100) train acc: 1.000000; val_acc: 0.193000\n",
      "(Iteration 991 / 1000) loss: 0.171002\n",
      "(Epoch 100 / 100) train acc: 1.000000; val_acc: 0.193000\n"
     ]
    },
    {
     "data": {
      "image/png": "[encoded data removed]",
      "text/plain": [
       "<Figure size 1000x800 with 1 Axes>"
      ]
     },
     "metadata": {},
     "output_type": "display_data"
    }
   ],
   "source": [
    "# Use the three layer neural network to overfit a small dataset.\n",
    "\n",
    "num_train = 50\n",
    "small_data = {\n",
    "  'X_train': data['X_train'][:num_train],\n",
    "  'y_train': data['y_train'][:num_train],\n",
    "  'X_val': data['X_val'],\n",
    "  'y_val': data['y_val'],\n",
    "}\n",
    "\n",
    "\n",
    "#### !!!!!!\n",
    "# Play around with the weight_scale and learning_rate so that you can overfit a small dataset.\n",
    "# Your training accuracy should be 1.0 to receive full credit on this part.\n",
    "weight_scale = 1e-2\n",
    "learning_rate = 5e-4\n",
    "\n",
    "model = FullyConnectedNet([300, 300],\n",
    "              weight_scale=weight_scale, dtype=np.float64)\n",
    "solver = Solver(model, small_data,\n",
    "                print_every=10, num_epochs=100, batch_size=5,\n",
    "                update_rule='sgd',\n",
    "                optim_config={\n",
    "                  'learning_rate': learning_rate,\n",
    "                },\n",
    "                lr_decay = 0.95\n",
    "         )\n",
    "solver.train()\n",
    "\n",
    "plt.plot(solver.loss_history, 'o')\n",
    "plt.title('Training loss history')\n",
    "plt.xlabel('Iteration')\n",
    "plt.ylabel('Training loss')\n",
    "plt.show()"
   ]
  }
 ],
 "metadata": {
  "kernelspec": {
   "display_name": "dlhw",
   "language": "python",
   "name": "dlhw"
  },
  "language_info": {
   "codemirror_mode": {
    "name": "ipython",
    "version": 3
   },
   "file_extension": ".py",
   "mimetype": "text/x-python",
   "name": "python",
   "nbconvert_exporter": "python",
   "pygments_lexer": "ipython3",
   "version": "3.12.4"
  },
  "varInspector": {
   "cols": {
    "lenName": 16,
    "lenType": 16,
    "lenVar": 40
   },
   "kernels_config": {
    "python": {
     "delete_cmd_postfix": "",
     "delete_cmd_prefix": "del ",
     "library": "var_list.py",
     "varRefreshCmd": "print(var_dic_list())"
    },
    "r": {
     "delete_cmd_postfix": ") ",
     "delete_cmd_prefix": "rm(",
     "library": "var_list.r",
     "varRefreshCmd": "cat(var_dic_list()) "
    }
   },
   "types_to_exclude": [
    "module",
    "function",
    "builtin_function_or_method",
    "instance",
    "_Feature"
   ],
   "window_display": true
  }
 },
 "nbformat": 4,
 "nbformat_minor": 2
}
